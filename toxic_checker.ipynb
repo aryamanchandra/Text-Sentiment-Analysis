{
  "nbformat": 4,
  "nbformat_minor": 0,
  "metadata": {
    "colab": {
      "provenance": [],
      "authorship_tag": "ABX9TyOQ3fPp8dNeiq6OYA568TBv"
    },
    "kernelspec": {
      "name": "python3",
      "display_name": "Python 3"
    },
    "language_info": {
      "name": "python"
    }
  },
  "cells": [
    {
      "cell_type": "code",
      "execution_count": 19,
      "metadata": {
        "id": "wLUDEgIGeVGO"
      },
      "outputs": [],
      "source": [
        "import pandas as pd\n",
        "import tensorflow as tf\n",
        "import numpy as np\n",
        "import os\n",
        "from tensorflow.keras.layers import TextVectorization, LSTM, Bidirectional, Dense, Dropout, Embedding\n",
        "from tensorflow.keras.models import Sequential, Model\n",
        "from sklearn.model_selection import train_test_split"
      ]
    },
    {
      "cell_type": "code",
      "source": [
        "df = pd.read_csv(\"train.csv\")"
      ],
      "metadata": {
        "id": "tktd1HNpgl_L"
      },
      "execution_count": 5,
      "outputs": []
    },
    {
      "cell_type": "code",
      "source": [
        "vector = TextVectorization(max_tokens=200000,output_sequence_length=1800,output_mode=\"int\")"
      ],
      "metadata": {
        "id": "p7b19TgZheML"
      },
      "execution_count": 7,
      "outputs": []
    },
    {
      "cell_type": "code",
      "source": [
        "X = df[\"comment_text\"]\n",
        "y = df[df.columns[2:]].values"
      ],
      "metadata": {
        "id": "mMLdnvcYh77m"
      },
      "execution_count": 8,
      "outputs": []
    },
    {
      "cell_type": "code",
      "source": [
        "vector.adapt(X.values)\n",
        "vectordata = vector(X.values)"
      ],
      "metadata": {
        "id": "jQNgqG9EiZ5S"
      },
      "execution_count": 12,
      "outputs": []
    },
    {
      "cell_type": "code",
      "source": [
        "dataset = (\n",
        "    tf.data.Dataset.from_tensor_slices((vectordata, y))\n",
        "    .shuffle(100000)\n",
        "    .batch(256)\n",
        "    .prefetch(128)\n",
        ")"
      ],
      "metadata": {
        "id": "U7BM5XC7izCD"
      },
      "execution_count": 34,
      "outputs": []
    },
    {
      "cell_type": "code",
      "source": [
        "train_dataset = dataset.take(int(len(dataset)*.6))\n",
        "val_dataset = dataset.skip(int(len(dataset)*6)).take(int(len(dataset)*3))\n",
        "test_dataset = dataset.skip(int(len(dataset)*9)).take(int(len(dataset)*1))"
      ],
      "metadata": {
        "id": "cCDdLEgRm3L9"
      },
      "execution_count": 38,
      "outputs": []
    },
    {
      "cell_type": "code",
      "source": [
        "def layer_architecture():\n",
        "    model = Sequential()\n",
        "    model.add(Embedding(200000+1,32))\n",
        "    model.add(Bidirectional(LSTM(32,activation=\"tanh\")))\n",
        "    model.add(Dense(128, activation=\"relu\"))\n",
        "    model.add(Dense(256, activation=\"relu\"))\n",
        "    model.add(Dense(128, activation=\"relu\"))\n",
        "    model.add(Dense(6, activation=\"sigmoid\"))\n",
        "    return model"
      ],
      "metadata": {
        "id": "WorVtXe2jtHt"
      },
      "execution_count": 21,
      "outputs": []
    },
    {
      "cell_type": "code",
      "source": [
        "model = layer_architecture()"
      ],
      "metadata": {
        "id": "NsgVENuBlpug"
      },
      "execution_count": 22,
      "outputs": []
    },
    {
      "cell_type": "code",
      "source": [
        "model.compile(loss='BinaryCrossentropy', optimizer='Adam')"
      ],
      "metadata": {
        "id": "aVonne9Fj5uQ"
      },
      "execution_count": 23,
      "outputs": []
    },
    {
      "cell_type": "code",
      "source": [
        "optimizer = tf.keras.optimizers.Adam(lr=0.001)"
      ],
      "metadata": {
        "id": "TWux8PYqmTBd"
      },
      "execution_count": null,
      "outputs": []
    },
    {
      "cell_type": "code",
      "source": [
        "checkpoint_dir = './training_checkpoints'\n",
        "os.makedirs(checkpoint_dir, exist_ok=True)\n",
        "checkpoint_prefix = os.path.join(checkpoint_dir, 'ckpt')\n",
        "checkpoint = tf.train.Checkpoint(opt=optimizer, model=model)\n",
        "checkpoint_callback = tf.keras.callbacks.ModelCheckpoint(\n",
        "    filepath=checkpoint_prefix,\n",
        "    save_weights_only=True,\n",
        "    save_best_only=True,\n",
        "    monitor='accuracy',\n",
        "    mode='min',\n",
        "    verbose=1\n",
        ")"
      ],
      "metadata": {
        "id": "hNomt35qmKvT"
      },
      "execution_count": 26,
      "outputs": []
    },
    {
      "cell_type": "code",
      "source": [
        "model.fit(\n",
        "    train_dataset,\n",
        "    epochs=1,\n",
        "    verbose=1,\n",
        "    validation_data = val_dataset,\n",
        "    callbacks=[checkpoint_callback]\n",
        ")"
      ],
      "metadata": {
        "id": "F0yhGJ7olzDk"
      },
      "execution_count": null,
      "outputs": []
    },
    {
      "cell_type": "code",
      "source": [
        "text = vector(\"Have a good day\")\n",
        "pred = model.predict(np.expand_dims(text,0))\n",
        "predictions = (pred > 0.5).astype(int)\n",
        "categories = list(df.columns[2:])\n",
        "predicted_categories = [categories[i] for i in range(predictions.shape[1]) if predictions[0, i] == 1]\n",
        "if (predicted_categories != []):\n",
        "  for i in predicted_categories:\n",
        "    print(i.capitalize())\n",
        "else:\n",
        "  print(\"No toxicity found\")"
      ],
      "metadata": {
        "id": "FhKusuckq0sq"
      },
      "execution_count": null,
      "outputs": []
    },
    {
      "cell_type": "code",
      "source": [
        "model.save(\"toxicity-checker.h5\")"
      ],
      "metadata": {
        "id": "5n2ESAuFrEZp"
      },
      "execution_count": 47,
      "outputs": []
    }
  ]
}